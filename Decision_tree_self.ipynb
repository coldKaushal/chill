{
 "cells": [
  {
   "cell_type": "markdown",
   "metadata": {},
   "source": [
    "# Decision Tree (self made)"
   ]
  },
  {
   "cell_type": "markdown",
   "metadata": {},
   "source": [
    "### 1. Importing libraries"
   ]
  },
  {
   "cell_type": "code",
   "execution_count": 17,
   "metadata": {},
   "outputs": [],
   "source": [
    "import numpy as np\n",
    "import matplotlib.pyplot as plt\n",
    "import os\n",
    "import pandas as pd\n",
    "from sklearn.metrics import r2_score\n",
    "from sklearn.datasets import load_boston\n",
    "from sklearn.model_selection import train_test_split\n",
    "from sklearn import preprocessing\n",
    "from sklearn import metrics"
   ]
  },
  {
   "cell_type": "markdown",
   "metadata": {},
   "source": [
    "### 2. Data Preprocessing"
   ]
  },
  {
   "cell_type": "code",
   "execution_count": 18,
   "metadata": {},
   "outputs": [
    {
     "data": {
      "text/html": [
       "<div>\n",
       "<style scoped>\n",
       "    .dataframe tbody tr th:only-of-type {\n",
       "        vertical-align: middle;\n",
       "    }\n",
       "\n",
       "    .dataframe tbody tr th {\n",
       "        vertical-align: top;\n",
       "    }\n",
       "\n",
       "    .dataframe thead th {\n",
       "        text-align: right;\n",
       "    }\n",
       "</style>\n",
       "<table border=\"1\" class=\"dataframe\">\n",
       "  <thead>\n",
       "    <tr style=\"text-align: right;\">\n",
       "      <th></th>\n",
       "      <th>Pregnancies</th>\n",
       "      <th>Glucose</th>\n",
       "      <th>BloodPressure</th>\n",
       "      <th>SkinThickness</th>\n",
       "      <th>Insulin</th>\n",
       "      <th>BMI</th>\n",
       "      <th>DiabetesPedigreeFunction</th>\n",
       "      <th>Age</th>\n",
       "      <th>Outcome</th>\n",
       "    </tr>\n",
       "  </thead>\n",
       "  <tbody>\n",
       "    <tr>\n",
       "      <th>0</th>\n",
       "      <td>6</td>\n",
       "      <td>148</td>\n",
       "      <td>72</td>\n",
       "      <td>35</td>\n",
       "      <td>0</td>\n",
       "      <td>33.6</td>\n",
       "      <td>0.627</td>\n",
       "      <td>50</td>\n",
       "      <td>1</td>\n",
       "    </tr>\n",
       "    <tr>\n",
       "      <th>1</th>\n",
       "      <td>1</td>\n",
       "      <td>85</td>\n",
       "      <td>66</td>\n",
       "      <td>29</td>\n",
       "      <td>0</td>\n",
       "      <td>26.6</td>\n",
       "      <td>0.351</td>\n",
       "      <td>31</td>\n",
       "      <td>0</td>\n",
       "    </tr>\n",
       "    <tr>\n",
       "      <th>2</th>\n",
       "      <td>8</td>\n",
       "      <td>183</td>\n",
       "      <td>64</td>\n",
       "      <td>0</td>\n",
       "      <td>0</td>\n",
       "      <td>23.3</td>\n",
       "      <td>0.672</td>\n",
       "      <td>32</td>\n",
       "      <td>1</td>\n",
       "    </tr>\n",
       "    <tr>\n",
       "      <th>3</th>\n",
       "      <td>1</td>\n",
       "      <td>89</td>\n",
       "      <td>66</td>\n",
       "      <td>23</td>\n",
       "      <td>94</td>\n",
       "      <td>28.1</td>\n",
       "      <td>0.167</td>\n",
       "      <td>21</td>\n",
       "      <td>0</td>\n",
       "    </tr>\n",
       "    <tr>\n",
       "      <th>4</th>\n",
       "      <td>0</td>\n",
       "      <td>137</td>\n",
       "      <td>40</td>\n",
       "      <td>35</td>\n",
       "      <td>168</td>\n",
       "      <td>43.1</td>\n",
       "      <td>2.288</td>\n",
       "      <td>33</td>\n",
       "      <td>1</td>\n",
       "    </tr>\n",
       "  </tbody>\n",
       "</table>\n",
       "</div>"
      ],
      "text/plain": [
       "   Pregnancies  Glucose  BloodPressure  SkinThickness  Insulin   BMI  \\\n",
       "0            6      148             72             35        0  33.6   \n",
       "1            1       85             66             29        0  26.6   \n",
       "2            8      183             64              0        0  23.3   \n",
       "3            1       89             66             23       94  28.1   \n",
       "4            0      137             40             35      168  43.1   \n",
       "\n",
       "   DiabetesPedigreeFunction  Age  Outcome  \n",
       "0                     0.627   50        1  \n",
       "1                     0.351   31        0  \n",
       "2                     0.672   32        1  \n",
       "3                     0.167   21        0  \n",
       "4                     2.288   33        1  "
      ]
     },
     "execution_count": 18,
     "metadata": {},
     "output_type": "execute_result"
    }
   ],
   "source": [
    "pima = pd.read_csv(\"diabetes.csv\")\n",
    "\n",
    "pima.head()"
   ]
  },
  {
   "cell_type": "code",
   "execution_count": 19,
   "metadata": {},
   "outputs": [
    {
     "name": "stdout",
     "output_type": "stream",
     "text": [
      "<class 'pandas.core.frame.DataFrame'>\n",
      "RangeIndex: 768 entries, 0 to 767\n",
      "Data columns (total 9 columns):\n",
      " #   Column                    Non-Null Count  Dtype  \n",
      "---  ------                    --------------  -----  \n",
      " 0   Pregnancies               768 non-null    int64  \n",
      " 1   Glucose                   768 non-null    int64  \n",
      " 2   BloodPressure             768 non-null    int64  \n",
      " 3   SkinThickness             768 non-null    int64  \n",
      " 4   Insulin                   768 non-null    int64  \n",
      " 5   BMI                       768 non-null    float64\n",
      " 6   DiabetesPedigreeFunction  768 non-null    float64\n",
      " 7   Age                       768 non-null    int64  \n",
      " 8   Outcome                   768 non-null    int64  \n",
      "dtypes: float64(2), int64(7)\n",
      "memory usage: 54.1 KB\n"
     ]
    }
   ],
   "source": [
    "pima.info()"
   ]
  },
  {
   "cell_type": "code",
   "execution_count": 20,
   "metadata": {
    "scrolled": true
   },
   "outputs": [
    {
     "data": {
      "text/plain": [
       "Pregnancies                  1.000\n",
       "Glucose                     85.000\n",
       "BloodPressure               66.000\n",
       "SkinThickness               29.000\n",
       "Insulin                      0.000\n",
       "BMI                         26.600\n",
       "DiabetesPedigreeFunction     0.351\n",
       "Age                         31.000\n",
       "Outcome                      0.000\n",
       "Name: 1, dtype: float64"
      ]
     },
     "execution_count": 20,
     "metadata": {},
     "output_type": "execute_result"
    }
   ],
   "source": [
    "pima.loc[1]"
   ]
  },
  {
   "cell_type": "code",
   "execution_count": 21,
   "metadata": {},
   "outputs": [],
   "source": [
    "all_cols = list(pima.columns)\n",
    "\n",
    "output_cols = all_cols[-1]"
   ]
  },
  {
   "cell_type": "markdown",
   "metadata": {},
   "source": [
    "### 3. Initialization and Setup"
   ]
  },
  {
   "cell_type": "code",
   "execution_count": 22,
   "metadata": {},
   "outputs": [],
   "source": [
    "def entropy(col):\n",
    "    \n",
    "    counts = np.unique(col,return_counts=True)\n",
    "    sz = float(col.shape[0])\n",
    "    \n",
    "    ent = 0.0\n",
    "    \n",
    "    for ix in counts[1]:\n",
    "        p  = ix/sz\n",
    "        ent += (-1.0*p*np.log2(p))\n",
    "    \n",
    "    return ent\n",
    "    \n",
    "def divide_data(x_data,fkey,fval):\n",
    "    \n",
    "    x_right = pd.DataFrame([],columns=x_data.columns)\n",
    "    x_left = pd.DataFrame([],columns=x_data.columns)\n",
    "    \n",
    "    for ix in range(x_data.shape[0]):\n",
    "        val = x_data[fkey].loc[ix]\n",
    "        \n",
    "        if val > fval:\n",
    "            x_right = x_right.append(x_data.loc[ix])\n",
    "        else:\n",
    "            x_left = x_left.append(x_data.loc[ix])\n",
    "            \n",
    "    return x_left,x_right\n",
    "\n",
    "def information_gain(x_data,fkey,fval):\n",
    "    \n",
    "    left,right = divide_data(x_data,fkey,fval)\n",
    "    \n",
    "    l = float(left.shape[0])/x_data.shape[0]\n",
    "    r = float(right.shape[0])/x_data.shape[0]\n",
    "    \n",
    "    if left.shape[0] == 0 or right.shape[0] ==0:\n",
    "        return 1000000 \n",
    "    \n",
    "    i_gain = entropy(x_data.Outcome) - (l*entropy(left.Outcome)+r*entropy(right.Outcome))\n",
    "    return i_gain\n",
    "\n",
    "\n"
   ]
  },
  {
   "cell_type": "markdown",
   "metadata": {},
   "source": [
    "### 4. Decision Tree Class"
   ]
  },
  {
   "cell_type": "code",
   "execution_count": 23,
   "metadata": {},
   "outputs": [],
   "source": [
    "class DecisionTree:\n",
    "    \n",
    "    #Constructor\n",
    "    def __init__(self,depth=0,max_depth=5):\n",
    "        self.left = None\n",
    "        self.right = None\n",
    "        self.fkey = None\n",
    "        self.fval = None\n",
    "        self.max_depth = max_depth\n",
    "        self.depth = depth\n",
    "        self.target = None\n",
    "        \n",
    "    def train(self,X_train):\n",
    "        \n",
    "        features = all_cols[:-1]\n",
    "        info_gains = []\n",
    "    \n",
    "        for ix in features:\n",
    "            i_gain = information_gain(X_train,ix,X_train[ix].mean())\n",
    "            info_gains.append(i_gain)\n",
    "            \n",
    "        self.fkey = features[np.argmax(info_gains)]\n",
    "        self.fval = X_train[self.fkey].mean()\n",
    "        print(\"The chosen tree feature is: \",self.fkey)\n",
    "        \n",
    "        #Split Data\n",
    "        data_left,data_right = divide_data(X_train,self.fkey,self.fval)\n",
    "        data_left = data_left.reset_index(drop=True)\n",
    "        data_right = data_right.reset_index(drop=True)\n",
    "         \n",
    "        #pure population found on one node\n",
    "        if data_left.shape[0]  == 0 or data_right.shape[0] ==0:\n",
    "            if X_train.Outcome.mean() >= 0.5:\n",
    "                self.target = 1\n",
    "            else:\n",
    "                self.target = 0\n",
    "            return\n",
    "        \n",
    "        #Stop earyly when depth >=max depth\n",
    "        if(self.depth>=self.max_depth):\n",
    "            if X_train.Outcome.mean() >= 0.5:\n",
    "                self.target = 1\n",
    "            else:\n",
    "                self.target = 0\n",
    "            return\n",
    "        \n",
    "        #Recursive Case\n",
    "        self.left = DecisionTree(depth=self.depth+1,max_depth=self.max_depth)\n",
    "        self.left.train(data_left)\n",
    "        \n",
    "        self.right = DecisionTree(depth=self.depth+1,max_depth=self.max_depth)\n",
    "        self.right.train(data_right)\n",
    "        \n",
    "        \n",
    "        if X_train.Outcome.mean() >= 0.5:\n",
    "            self.target = 1\n",
    "        else:\n",
    "            self.target = 0\n",
    "        return\n",
    "    \n",
    "    def predict(self,test):\n",
    "        \n",
    "        #print(self.fkey)\n",
    "        if test[self.fkey]>self.fval:\n",
    "            \n",
    "            if self.right is None:\n",
    "                return self.target\n",
    "            return self.right.predict(test)\n",
    "        else:\n",
    "            \n",
    "            if self.left is None:\n",
    "                return self.target\n",
    "            return self.left.predict(test)"
   ]
  },
  {
   "cell_type": "markdown",
   "metadata": {},
   "source": [
    "### 5. Train-Test Split"
   ]
  },
  {
   "cell_type": "code",
   "execution_count": 24,
   "metadata": {},
   "outputs": [],
   "source": [
    "split = int(0.7*pima.shape[0])\n",
    "train_data = pima[:split]\n",
    "test_data = pima[split:]\n",
    "test_data = test_data.reset_index(drop=True)"
   ]
  },
  {
   "cell_type": "code",
   "execution_count": 25,
   "metadata": {},
   "outputs": [
    {
     "name": "stdout",
     "output_type": "stream",
     "text": [
      "(537, 9) (231, 9)\n"
     ]
    }
   ],
   "source": [
    "print(train_data.shape,test_data.shape)"
   ]
  },
  {
   "cell_type": "markdown",
   "metadata": {},
   "source": [
    "### 6. Training"
   ]
  },
  {
   "cell_type": "code",
   "execution_count": 26,
   "metadata": {},
   "outputs": [],
   "source": [
    "dt = DecisionTree()"
   ]
  },
  {
   "cell_type": "code",
   "execution_count": 27,
   "metadata": {},
   "outputs": [
    {
     "name": "stdout",
     "output_type": "stream",
     "text": [
      "The chosen tree feature is:  Glucose\n",
      "The chosen tree feature is:  Age\n",
      "The chosen tree feature is:  BMI\n",
      "The chosen tree feature is:  Pregnancies\n",
      "The chosen tree feature is:  Pregnancies\n",
      "The chosen tree feature is:  Pregnancies\n",
      "The chosen tree feature is:  Pregnancies\n",
      "The chosen tree feature is:  Glucose\n",
      "The chosen tree feature is:  Pregnancies\n",
      "The chosen tree feature is:  SkinThickness\n",
      "The chosen tree feature is:  Age\n",
      "The chosen tree feature is:  Glucose\n",
      "The chosen tree feature is:  BMI\n",
      "The chosen tree feature is:  SkinThickness\n",
      "The chosen tree feature is:  DiabetesPedigreeFunction\n",
      "The chosen tree feature is:  Pregnancies\n",
      "The chosen tree feature is:  Insulin\n",
      "The chosen tree feature is:  Glucose\n",
      "The chosen tree feature is:  SkinThickness\n",
      "The chosen tree feature is:  BloodPressure\n",
      "The chosen tree feature is:  Insulin\n",
      "The chosen tree feature is:  Pregnancies\n",
      "The chosen tree feature is:  Insulin\n",
      "The chosen tree feature is:  Insulin\n",
      "The chosen tree feature is:  Insulin\n",
      "The chosen tree feature is:  Pregnancies\n",
      "The chosen tree feature is:  Glucose\n",
      "The chosen tree feature is:  BloodPressure\n",
      "The chosen tree feature is:  BMI\n",
      "The chosen tree feature is:  Age\n",
      "The chosen tree feature is:  Glucose\n",
      "The chosen tree feature is:  BMI\n",
      "The chosen tree feature is:  Glucose\n",
      "The chosen tree feature is:  BMI\n",
      "The chosen tree feature is:  BMI\n",
      "The chosen tree feature is:  DiabetesPedigreeFunction\n",
      "The chosen tree feature is:  Insulin\n",
      "The chosen tree feature is:  Pregnancies\n",
      "The chosen tree feature is:  BMI\n",
      "The chosen tree feature is:  BloodPressure\n",
      "The chosen tree feature is:  SkinThickness\n",
      "The chosen tree feature is:  DiabetesPedigreeFunction\n",
      "The chosen tree feature is:  BMI\n",
      "The chosen tree feature is:  Glucose\n",
      "The chosen tree feature is:  BMI\n",
      "The chosen tree feature is:  Pregnancies\n",
      "The chosen tree feature is:  BloodPressure\n",
      "The chosen tree feature is:  Pregnancies\n",
      "The chosen tree feature is:  Glucose\n",
      "The chosen tree feature is:  Glucose\n",
      "The chosen tree feature is:  Glucose\n",
      "The chosen tree feature is:  Pregnancies\n",
      "The chosen tree feature is:  Pregnancies\n",
      "The chosen tree feature is:  DiabetesPedigreeFunction\n",
      "The chosen tree feature is:  Pregnancies\n",
      "The chosen tree feature is:  Pregnancies\n",
      "The chosen tree feature is:  BMI\n",
      "The chosen tree feature is:  SkinThickness\n",
      "The chosen tree feature is:  Glucose\n",
      "The chosen tree feature is:  SkinThickness\n",
      "The chosen tree feature is:  DiabetesPedigreeFunction\n",
      "The chosen tree feature is:  Pregnancies\n",
      "The chosen tree feature is:  Age\n"
     ]
    }
   ],
   "source": [
    "dt.train(train_data)"
   ]
  },
  {
   "cell_type": "code",
   "execution_count": 28,
   "metadata": {},
   "outputs": [
    {
     "name": "stdout",
     "output_type": "stream",
     "text": [
      "<class 'numpy.ndarray'>\n"
     ]
    }
   ],
   "source": [
    "y_actual = test_data[output_cols]\n",
    "y_actual = np.array(y_actual)\n",
    "\n",
    "print(type(y_actual))"
   ]
  },
  {
   "cell_type": "markdown",
   "metadata": {},
   "source": [
    "### 7. Prediction"
   ]
  },
  {
   "cell_type": "code",
   "execution_count": 29,
   "metadata": {},
   "outputs": [],
   "source": [
    "y_pred = []\n",
    "for ix in range(test_data.shape[0]):\n",
    "    y_pred.append(dt.predict(test_data.loc[ix]))"
   ]
  },
  {
   "cell_type": "code",
   "execution_count": 30,
   "metadata": {},
   "outputs": [
    {
     "name": "stdout",
     "output_type": "stream",
     "text": [
      "(231, 1)\n",
      "<class 'numpy.ndarray'>\n"
     ]
    }
   ],
   "source": [
    "y_pred = np.array(y_pred).reshape((-1,1))\n",
    "print(y_pred.shape)\n",
    "print(type(y_pred))"
   ]
  },
  {
   "cell_type": "markdown",
   "metadata": {},
   "source": [
    "### 8. Scoring"
   ]
  },
  {
   "cell_type": "code",
   "execution_count": 31,
   "metadata": {},
   "outputs": [],
   "source": [
    "acc = 0\n",
    "\n",
    "sz = y_pred.shape[0]\n",
    "\n",
    "for i in range(sz):\n",
    "    \n",
    "    if y_pred[i][0] == y_actual[i] :\n",
    "        acc = acc + 1\n",
    "        \n",
    "acc = acc / sz"
   ]
  },
  {
   "cell_type": "code",
   "execution_count": 32,
   "metadata": {},
   "outputs": [
    {
     "name": "stdout",
     "output_type": "stream",
     "text": [
      "0.7532467532467533\n"
     ]
    }
   ],
   "source": [
    "print(acc)"
   ]
  },
  {
   "cell_type": "code",
   "execution_count": null,
   "metadata": {},
   "outputs": [],
   "source": []
  }
 ],
 "metadata": {
  "kernelspec": {
   "display_name": "Python 3.7.4 64-bit",
   "language": "python",
   "name": "python37464bit136b089fb3184ff4acc4f49a328f5daf"
  },
  "language_info": {
   "codemirror_mode": {
    "name": "ipython",
    "version": 3
   },
   "file_extension": ".py",
   "mimetype": "text/x-python",
   "name": "python",
   "nbconvert_exporter": "python",
   "pygments_lexer": "ipython3",
   "version": "3.7.4"
  }
 },
 "nbformat": 4,
 "nbformat_minor": 4
}
