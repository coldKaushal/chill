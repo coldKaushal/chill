{
 "cells": [
  {
   "cell_type": "markdown",
   "metadata": {},
   "source": [
    "# Linear Regression (Self Made)"
   ]
  },
  {
   "cell_type": "markdown",
   "metadata": {},
   "source": [
    "### 1. Importing Libraries"
   ]
  },
  {
   "cell_type": "code",
   "execution_count": 1,
   "metadata": {},
   "outputs": [],
   "source": [
    "import numpy as np\n",
    "import matplotlib.pyplot as plt\n",
    "import os\n",
    "import pandas as pd\n",
    "from sklearn.metrics import r2_score\n",
    "from sklearn.datasets import load_boston\n",
    "from sklearn.model_selection import train_test_split\n",
    "from sklearn import preprocessing\n",
    "from sklearn import metrics"
   ]
  },
  {
   "cell_type": "markdown",
   "metadata": {},
   "source": [
    "### 2. Data Preprocessing"
   ]
  },
  {
   "cell_type": "code",
   "execution_count": 2,
   "metadata": {},
   "outputs": [
    {
     "name": "stdout",
     "output_type": "stream",
     "text": [
      "(14, 379) (14, 127) (1, 379) (1, 127)\n"
     ]
    }
   ],
   "source": [
    "data = load_boston()\n",
    "\n",
    "X, y = data['data'], data['target']\n",
    "\n",
    "u = np.mean(X,axis=0)\n",
    "std = np.std(X,axis=0)\n",
    "# Normalise the Data\n",
    "X = (X-u)/std\n",
    "\n",
    "X_train, X_test, Y_train, Y_test = train_test_split(X, y, test_size=0.25, random_state=42)\n",
    "\n",
    "Y_train = Y_train.reshape((1, Y_train.shape[0]))\n",
    "Y_test = Y_test.reshape((1, Y_test.shape[0]))\n",
    "\n",
    "## stacking the input with ones\n",
    "ones_extra = np.ones((X_train.shape[0], 1))\n",
    "X_train = np.hstack((ones_extra, X_train))\n",
    "X_train = X_train.T\n",
    "\n",
    "ones_extra = np.ones((X_test.shape[0], 1))\n",
    "X_test = np.hstack((ones_extra, X_test))\n",
    "X_test = X_test.T\n",
    "\n",
    "print(X_train.shape, X_test.shape, Y_train.shape, Y_test.shape)"
   ]
  },
  {
   "cell_type": "markdown",
   "metadata": {},
   "source": [
    "### 3. Intialization and Setup"
   ]
  },
  {
   "cell_type": "code",
   "execution_count": 3,
   "metadata": {},
   "outputs": [],
   "source": [
    "\n",
    "def predict(X, w):\n",
    "    return np.dot(w, X)\n",
    "\n",
    "def mse_loss(y, y_pred, m, lam, w):\n",
    "    \n",
    "    loss = np.sum((y_pred - y)**2 ) + lam * np.sum(np.square(w))\n",
    "    \n",
    "    return loss/m\n",
    "    \n",
    "def gradient(y, y_pred, X, lam, w, m):\n",
    "    \n",
    "    grad = np.dot( y_pred - y, X.T) + lam * w\n",
    "    \n",
    "    return grad/m\n",
    "\n",
    "\n",
    "def score(y, y_pred):\n",
    "    \n",
    "    y = y.reshape((y.shape[1],))\n",
    "    y_pred = y_pred.reshape((y_pred.shape[1],))\n",
    "    \n",
    "\n",
    "    return r2_score(y, y_pred)\n",
    "\n",
    "def train(epochs, lr):\n",
    "    \n",
    "    losses = []\n",
    "    train_acc = []\n",
    "    valid_acc = []\n",
    "    w = np.zeros((1, X_train.shape[0]))\n",
    "    \n",
    "    k = 5\n",
    "    s = 0\n",
    "    e = k\n",
    "    tot = X_train.shape[1]\n",
    "    m = X_train.shape[1]\n",
    "    lam = 0.5\n",
    "    \n",
    "    for i in range(epochs):\n",
    "        \n",
    "        s = min(s, m - 1)\n",
    "        e = min(e, m - 1)\n",
    "        \n",
    "        #applying cross validation\n",
    "        X_valid = X_train[:, s : e]\n",
    "        X_t = np.hstack((X_train[:,0 : s], X_train[:, e : tot - 1]))\n",
    "        \n",
    "        Y_valid = Y_train[:, s : e]\n",
    "        Y_t = np.hstack((Y_train[:, 0 : s], Y_train[:, e : tot - 1]))\n",
    "        \n",
    "        m = X_t.shape[1]\n",
    "        \n",
    "        y_pred = predict(X_t, w)\n",
    "        y_pred_valid = predict(X_valid, w)\n",
    "        #computing the losses\n",
    "        loss = mse_loss(Y_t, y_pred, m, lam, w)\n",
    "        \n",
    "        losses.append(loss)\n",
    "        \n",
    "        #finding the gradient value for the weight change\n",
    "        \n",
    "        grad = gradient(Y_t, y_pred, X_t, lam, w, m)\n",
    "        \n",
    "        #updating the weights\n",
    "        w = w - (lr) * (grad)\n",
    "    \n",
    "        train_score = score(Y_t, y_pred)\n",
    "        \n",
    "        train_acc.append(train_score)\n",
    "        \n",
    "        valid_score = score(Y_valid, y_pred_valid)\n",
    "        \n",
    "        valid_acc.append(valid_score)\n",
    "        \n",
    "        \n",
    "        if i % 1000 == 0:\n",
    "            \n",
    "            print(\"The training accuracy : {} The validation accuracy: {}\".format(train_score, valid_score))\n",
    "            \n",
    "            \n",
    "    \n",
    "    return w, losses, train_acc\n",
    "        \n",
    "        \n",
    "        \n",
    "    \n",
    "    "
   ]
  },
  {
   "cell_type": "markdown",
   "metadata": {},
   "source": [
    "### 6. Training"
   ]
  },
  {
   "cell_type": "code",
   "execution_count": 4,
   "metadata": {},
   "outputs": [
    {
     "name": "stdout",
     "output_type": "stream",
     "text": [
      "The training accuracy : -5.950279682117007 The validation accuracy: -5.133223890528107\n",
      "The training accuracy : 0.7421359141644075 The validation accuracy: 0.818234273873686\n",
      "The training accuracy : 0.7437811932489373 The validation accuracy: 0.8445619787799525\n",
      "The training accuracy : 0.744112067217449 The validation accuracy: 0.8545944855063334\n",
      "The training accuracy : 0.7442083927325758 The validation accuracy: 0.8590997214584362\n",
      "The training accuracy : 0.744239360774374 The validation accuracy: 0.8613318087971629\n",
      "The training accuracy : 0.7442501661859123 The validation accuracy: 0.8624869525585148\n",
      "The training accuracy : 0.7442543095135956 The validation accuracy: 0.8630958706286629\n",
      "The training accuracy : 0.7442560592222174 The validation accuracy: 0.8634193911911188\n",
      "The training accuracy : 0.7442568619248402 The validation accuracy: 0.8635918789510277\n",
      "The training accuracy : 0.7442572532145664 The validation accuracy: 0.863683989977389\n",
      "The training accuracy : 0.7442574516229008 The validation accuracy: 0.8637332163989079\n",
      "The training accuracy : 0.7442575546321355 The validation accuracy: 0.8637595341902384\n",
      "The training accuracy : 0.7442576088370175 The validation accuracy: 0.8637736070981453\n",
      "The training accuracy : 0.7442576375738517 The validation accuracy: 0.8637811330445637\n"
     ]
    }
   ],
   "source": [
    "w, losses, train_acc = train(epochs = 15000, lr = 0.01)"
   ]
  },
  {
   "cell_type": "markdown",
   "metadata": {},
   "source": [
    "### 7. Predictions and Scoring"
   ]
  },
  {
   "cell_type": "code",
   "execution_count": 5,
   "metadata": {},
   "outputs": [
    {
     "name": "stdout",
     "output_type": "stream",
     "text": [
      "Average Testing accuracy: 0.6838358472920477\n"
     ]
    }
   ],
   "source": [
    "y_ = predict(X_test, w)\n",
    "\n",
    "Y_test = Y_test.reshape((Y_test.shape[1],))\n",
    "y_ = y_.reshape((y_.shape[1],))\n",
    "\n",
    "testing_acc = r2_score(Y_test, y_)\n",
    "\n",
    "print(\"Average Testing accuracy: {}\".format(testing_acc))"
   ]
  },
  {
   "cell_type": "markdown",
   "metadata": {},
   "source": [
    "\n",
    "\n",
    "### 8. Plotting"
   ]
  },
  {
   "cell_type": "code",
   "execution_count": 6,
   "metadata": {},
   "outputs": [
    {
     "data": {
      "image/png": "[encoded data removed]",
      "text/plain": [
       "<Figure size 432x288 with 1 Axes>"
      ]
     },
     "metadata": {
      "needs_background": "light"
     },
     "output_type": "display_data"
    }
   ],
   "source": [
    "plt.plot(losses)\n",
    "plt.show()"
   ]
  },
  {
   "cell_type": "code",
   "execution_count": 7,
   "metadata": {},
   "outputs": [
    {
     "data": {
      "image/png": "[encoded data removed]",
      "text/plain": [
       "<Figure size 432x288 with 1 Axes>"
      ]
     },
     "metadata": {
      "needs_background": "light"
     },
     "output_type": "display_data"
    }
   ],
   "source": [
    "#training accuracy\n",
    "plt.plot(train_acc)\n",
    "plt.show()"
   ]
  },
  {
   "cell_type": "code",
   "execution_count": null,
   "metadata": {},
   "outputs": [],
   "source": []
  },
  {
   "cell_type": "code",
   "execution_count": null,
   "metadata": {},
   "outputs": [],
   "source": []
  },
  {
   "cell_type": "code",
   "execution_count": null,
   "metadata": {},
   "outputs": [],
   "source": []
  }
 ],
 "metadata": {
  "kernelspec": {
   "display_name": "Python 3.7.4 64-bit",
   "language": "python",
   "name": "python37464bit136b089fb3184ff4acc4f49a328f5daf"
  },
  "language_info": {
   "codemirror_mode": {
    "name": "ipython",
    "version": 3
   },
   "file_extension": ".py",
   "mimetype": "text/x-python",
   "name": "python",
   "nbconvert_exporter": "python",
   "pygments_lexer": "ipython3",
   "version": "3.7.4"
  }
 },
 "nbformat": 4,
 "nbformat_minor": 4
}
