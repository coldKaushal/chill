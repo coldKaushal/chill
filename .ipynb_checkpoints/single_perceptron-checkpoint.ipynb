{
 "cells": [
  {
   "cell_type": "markdown",
   "metadata": {},
   "source": [
    "# Single Perceptron (Self Made)"
   ]
  },
  {
   "cell_type": "markdown",
   "metadata": {},
   "source": [
    "### 1. Importing Libraries"
   ]
  },
  {
   "cell_type": "code",
   "execution_count": 63,
   "metadata": {},
   "outputs": [],
   "source": [
    "import numpy as np\n",
    "import matplotlib.pyplot as plt\n",
    "import os\n",
    "import pandas as pd\n",
    "from sklearn.metrics import r2_score\n",
    "from sklearn.datasets import load_boston\n",
    "from sklearn.model_selection import train_test_split\n",
    "from sklearn import preprocessing\n",
    "from sklearn import metrics\n",
    "from sklearn.metrics import confusion_matrix"
   ]
  },
  {
   "cell_type": "markdown",
   "metadata": {},
   "source": [
    "### 2. Data Preprocessing"
   ]
  },
  {
   "cell_type": "code",
   "execution_count": 64,
   "metadata": {},
   "outputs": [
    {
     "data": {
      "text/html": [
       "<div>\n",
       "<style scoped>\n",
       "    .dataframe tbody tr th:only-of-type {\n",
       "        vertical-align: middle;\n",
       "    }\n",
       "\n",
       "    .dataframe tbody tr th {\n",
       "        vertical-align: top;\n",
       "    }\n",
       "\n",
       "    .dataframe thead th {\n",
       "        text-align: right;\n",
       "    }\n",
       "</style>\n",
       "<table border=\"1\" class=\"dataframe\">\n",
       "  <thead>\n",
       "    <tr style=\"text-align: right;\">\n",
       "      <th></th>\n",
       "      <th>Pregnancies</th>\n",
       "      <th>Glucose</th>\n",
       "      <th>BloodPressure</th>\n",
       "      <th>SkinThickness</th>\n",
       "      <th>Insulin</th>\n",
       "      <th>BMI</th>\n",
       "      <th>DiabetesPedigreeFunction</th>\n",
       "      <th>Age</th>\n",
       "      <th>Outcome</th>\n",
       "    </tr>\n",
       "  </thead>\n",
       "  <tbody>\n",
       "    <tr>\n",
       "      <th>0</th>\n",
       "      <td>6</td>\n",
       "      <td>148</td>\n",
       "      <td>72</td>\n",
       "      <td>35</td>\n",
       "      <td>0</td>\n",
       "      <td>33.6</td>\n",
       "      <td>0.627</td>\n",
       "      <td>50</td>\n",
       "      <td>1</td>\n",
       "    </tr>\n",
       "    <tr>\n",
       "      <th>1</th>\n",
       "      <td>1</td>\n",
       "      <td>85</td>\n",
       "      <td>66</td>\n",
       "      <td>29</td>\n",
       "      <td>0</td>\n",
       "      <td>26.6</td>\n",
       "      <td>0.351</td>\n",
       "      <td>31</td>\n",
       "      <td>0</td>\n",
       "    </tr>\n",
       "    <tr>\n",
       "      <th>2</th>\n",
       "      <td>8</td>\n",
       "      <td>183</td>\n",
       "      <td>64</td>\n",
       "      <td>0</td>\n",
       "      <td>0</td>\n",
       "      <td>23.3</td>\n",
       "      <td>0.672</td>\n",
       "      <td>32</td>\n",
       "      <td>1</td>\n",
       "    </tr>\n",
       "    <tr>\n",
       "      <th>3</th>\n",
       "      <td>1</td>\n",
       "      <td>89</td>\n",
       "      <td>66</td>\n",
       "      <td>23</td>\n",
       "      <td>94</td>\n",
       "      <td>28.1</td>\n",
       "      <td>0.167</td>\n",
       "      <td>21</td>\n",
       "      <td>0</td>\n",
       "    </tr>\n",
       "    <tr>\n",
       "      <th>4</th>\n",
       "      <td>0</td>\n",
       "      <td>137</td>\n",
       "      <td>40</td>\n",
       "      <td>35</td>\n",
       "      <td>168</td>\n",
       "      <td>43.1</td>\n",
       "      <td>2.288</td>\n",
       "      <td>33</td>\n",
       "      <td>1</td>\n",
       "    </tr>\n",
       "  </tbody>\n",
       "</table>\n",
       "</div>"
      ],
      "text/plain": [
       "   Pregnancies  Glucose  BloodPressure  SkinThickness  Insulin   BMI  \\\n",
       "0            6      148             72             35        0  33.6   \n",
       "1            1       85             66             29        0  26.6   \n",
       "2            8      183             64              0        0  23.3   \n",
       "3            1       89             66             23       94  28.1   \n",
       "4            0      137             40             35      168  43.1   \n",
       "\n",
       "   DiabetesPedigreeFunction  Age  Outcome  \n",
       "0                     0.627   50        1  \n",
       "1                     0.351   31        0  \n",
       "2                     0.672   32        1  \n",
       "3                     0.167   21        0  \n",
       "4                     2.288   33        1  "
      ]
     },
     "execution_count": 64,
     "metadata": {},
     "output_type": "execute_result"
    }
   ],
   "source": [
    "pima = pd.read_csv(\"diabetes.csv\")\n",
    "\n",
    "pima.head()\n"
   ]
  },
  {
   "cell_type": "code",
   "execution_count": 65,
   "metadata": {},
   "outputs": [
    {
     "name": "stdout",
     "output_type": "stream",
     "text": [
      "<class 'pandas.core.frame.DataFrame'>\n",
      "RangeIndex: 768 entries, 0 to 767\n",
      "Data columns (total 9 columns):\n",
      " #   Column                    Non-Null Count  Dtype  \n",
      "---  ------                    --------------  -----  \n",
      " 0   Pregnancies               768 non-null    int64  \n",
      " 1   Glucose                   768 non-null    int64  \n",
      " 2   BloodPressure             768 non-null    int64  \n",
      " 3   SkinThickness             768 non-null    int64  \n",
      " 4   Insulin                   768 non-null    int64  \n",
      " 5   BMI                       768 non-null    float64\n",
      " 6   DiabetesPedigreeFunction  768 non-null    float64\n",
      " 7   Age                       768 non-null    int64  \n",
      " 8   Outcome                   768 non-null    int64  \n",
      "dtypes: float64(2), int64(7)\n",
      "memory usage: 54.1 KB\n"
     ]
    }
   ],
   "source": [
    "pima.info()"
   ]
  },
  {
   "cell_type": "code",
   "execution_count": 66,
   "metadata": {},
   "outputs": [
    {
     "name": "stdout",
     "output_type": "stream",
     "text": [
      "(9, 537) (9, 231) (1, 537) (1, 231)\n"
     ]
    }
   ],
   "source": [
    "#normalizing the dataset\n",
    "scalar = preprocessing.MinMaxScaler()\n",
    "pima = scalar.fit_transform(pima)\n",
    "\n",
    "#split dataset in features and target variable\n",
    "\n",
    "X = pima[:,:8]\n",
    "y = pima[:, 8]\n",
    "\n",
    "X_train, X_test, Y_train, Y_test = train_test_split(X, y, test_size=0.3, random_state=42)\n",
    "\n",
    "Y_train = Y_train.reshape((1, Y_train.shape[0]))\n",
    "Y_test = Y_test.reshape((1, Y_test.shape[0]))\n",
    "\n",
    "## stacking the input with ones\n",
    "ones_extra = np.ones((X_train.shape[0], 1))\n",
    "X_train = np.hstack((ones_extra, X_train))\n",
    "X_train = X_train.T\n",
    "\n",
    "ones_extra = np.ones((X_test.shape[0], 1))\n",
    "X_test = np.hstack((ones_extra, X_test))\n",
    "X_test = X_test.T\n",
    "\n",
    "print(X_train.shape, X_test.shape, Y_train.shape, Y_test.shape)\n"
   ]
  },
  {
   "cell_type": "markdown",
   "metadata": {},
   "source": [
    "### 3. Required functions"
   ]
  },
  {
   "cell_type": "code",
   "execution_count": 67,
   "metadata": {},
   "outputs": [],
   "source": [
    "def sigmoid(x):\n",
    "    \n",
    "    return 1/(1 + np.exp(-x))\n",
    "\n",
    "\n",
    "def rescaling(y_pred):\n",
    "    \n",
    "    for i in range(y_pred.shape[1]):\n",
    "            \n",
    "            el = y_pred[0][i]\n",
    "            \n",
    "            if el > 0.5:\n",
    "                y_pred[0][i] = 1\n",
    "                \n",
    "            else:\n",
    "                y_pred[0][i] = 0\n",
    "                \n",
    "                \n",
    "    return y_pred\n",
    "\n",
    "\n",
    "def predict(X, w):\n",
    "    \n",
    "   y_ = sigmoid(np.dot(w, X))\n",
    "\n",
    "   return y_\n",
    "\n",
    "\n",
    "def gradient(y, y_pred, X, lam, w, m):\n",
    "    \n",
    "    g = np.dot(y_pred - y, X.T) + lam * w\n",
    "    \n",
    "    return g / m\n",
    "\n",
    "\n",
    "def cross_entropy_loss(y, y_pred, m, lam, w):\n",
    "\n",
    "    loss = -np.mean(y*(np.log(y_pred)) - (1-y)*np.log(1-y_pred)) + lam * np.sum(np.square(w))\n",
    "    return loss / m\n",
    "\n",
    "\n",
    "def score(y, y_pred):\n",
    "    \n",
    "    y = y.reshape((y.shape[1],))\n",
    "    y_pred = y_pred.reshape((y_pred.shape[1],))\n",
    "    \n",
    "    return metrics.accuracy_score(y, y_pred)\n",
    "    \n",
    "    \n",
    "def train(epochs, learning_rate, m, momentum):\n",
    "    \n",
    "    error_list = []\n",
    "    train_acc = []\n",
    "    valid_acc = []\n",
    "    w_list = []\n",
    "    w = np.zeros((1, X_train.shape[0]))\n",
    "    \n",
    "    k = 5\n",
    "    s = 0\n",
    "    e = k\n",
    "    tot = X_train.shape[1]\n",
    "    m = X_train.shape[1]\n",
    "    lam = 0.5\n",
    "    \n",
    "    #set as infinte value\n",
    "    prev_grad = 1\n",
    "    \n",
    "    for i in range(epochs):\n",
    "    \n",
    "        s = min(s, m - 1)\n",
    "        e = min(e, m - 1)\n",
    "        \n",
    "        #applying cross validation\n",
    "        X_valid = X_train[:, s : e]\n",
    "        X_t = np.hstack((X_train[:,0 : s], X_train[:, e : tot - 1]))\n",
    "        \n",
    "        Y_valid = Y_train[:, s : e]\n",
    "        Y_t = np.hstack((Y_train[:, 0 : s], Y_train[:, e : tot - 1]))\n",
    "        \n",
    "        m = X_t.shape[1]\n",
    "    \n",
    "        y_pred = predict(X_t, w)\n",
    "        y_pred_valid = predict(X_valid, w)\n",
    "        \n",
    "        loss = cross_entropy_loss(Y_t, y_pred, m, lam, w)\n",
    "        \n",
    "        error_list.append(loss)\n",
    "        \n",
    "        y_pred = rescaling(y_pred)\n",
    "        y_pred_valid = rescaling(y_pred_valid)\n",
    "        \n",
    "        #finding the gradient value for the weight change\n",
    "        \n",
    "        g = gradient(Y_t, y_pred, X_t, lam, w, m)\n",
    "        \n",
    "        grad = momentum * prev_grad + (1 - momentum) * g\n",
    "        w = w - (learning_rate) * grad\n",
    "        w_list.append(w)\n",
    "        \n",
    "        prev_grad = grad\n",
    "\n",
    "    \n",
    "        train_score = score(Y_t, y_pred)\n",
    "        \n",
    "        train_acc.append(train_score)\n",
    "        \n",
    "        valid_score = score(Y_valid, y_pred_valid)\n",
    "        \n",
    "        valid_acc.append(valid_score)\n",
    "        \n",
    "        #if i % 5 == 0:\n",
    "            \n",
    "            #print(\"The training accuracy : {} The validation accuracy: {}\".format(train_score, valid_score))\n",
    "        \n",
    "    \n",
    "    return w, error_list, train_acc, valid_acc, w_list"
   ]
  },
  {
   "cell_type": "markdown",
   "metadata": {},
   "source": [
    "### 4. Training"
   ]
  },
  {
   "cell_type": "code",
   "execution_count": 68,
   "metadata": {
    "scrolled": true
   },
   "outputs": [],
   "source": [
    "itrs = 500\n",
    "w, losses, train_acc, valid_acc, w_list = train(epochs = itrs, learning_rate = 0.009, m = X_train.shape[1], momentum = 0.9)"
   ]
  },
  {
   "cell_type": "markdown",
   "metadata": {},
   "source": [
    "### 5. Prediction and Scoring"
   ]
  },
  {
   "cell_type": "code",
   "execution_count": 69,
   "metadata": {},
   "outputs": [
    {
     "name": "stdout",
     "output_type": "stream",
     "text": [
      "Average Testing accuracy: 0.7402597402597403\n"
     ]
    }
   ],
   "source": [
    "y_ = predict(X_test, w)\n",
    "rescaling(y_)\n",
    "testing_acc = score(Y_test, y_)\n",
    "\n",
    "print(\"Average Testing accuracy: {}\".format(testing_acc))"
   ]
  },
  {
   "cell_type": "markdown",
   "metadata": {},
   "source": [
    "### 6. Plotting"
   ]
  },
  {
   "cell_type": "code",
   "execution_count": 70,
   "metadata": {},
   "outputs": [
    {
     "data": {
      "image/png": "[encoded data removed]",
      "text/plain": [
       "<Figure size 432x288 with 1 Axes>"
      ]
     },
     "metadata": {
      "needs_background": "light"
     },
     "output_type": "display_data"
    },
    {
     "data": {
      "image/png": "[encoded data removed]",
      "text/plain": [
       "<Figure size 432x288 with 1 Axes>"
      ]
     },
     "metadata": {
      "needs_background": "light"
     },
     "output_type": "display_data"
    },
    {
     "name": "stdout",
     "output_type": "stream",
     "text": [
      "Average Training accuracy: 0.6637062146892656\n"
     ]
    }
   ],
   "source": [
    "#training accuracy\n",
    "plt.plot(train_acc)\n",
    "plt.show()\n",
    "plt.plot(valid_acc)\n",
    "plt.show()\n",
    "\n",
    "avg = np.sum(np.array(train_acc)) / itrs\n",
    "\n",
    "print(\"Average Training accuracy: {}\".format(avg))"
   ]
  },
  {
   "cell_type": "code",
   "execution_count": 71,
   "metadata": {},
   "outputs": [
    {
     "data": {
      "image/png": "[encoded data removed]",
      "text/plain": [
       "<Figure size 432x288 with 1 Axes>"
      ]
     },
     "metadata": {
      "needs_background": "light"
     },
     "output_type": "display_data"
    }
   ],
   "source": [
    "plt.plot(losses)\n",
    "plt.show()"
   ]
  },
  {
   "cell_type": "markdown",
   "metadata": {},
   "source": [
    "### 7. ROC curve"
   ]
  },
  {
   "cell_type": "code",
   "execution_count": 72,
   "metadata": {},
   "outputs": [
    {
     "data": {
      "image/png": "[encoded data removed]",
      "text/plain": [
       "<Figure size 432x288 with 1 Axes>"
      ]
     },
     "metadata": {
      "needs_background": "light"
     },
     "output_type": "display_data"
    }
   ],
   "source": [
    "fpr, tpr, thresholds = metrics.roc_curve(Y_test.reshape((Y_test.shape[1],)), y_.reshape(y_.shape[1], ))\n",
    "\n",
    "plt.plot(fpr, tpr)\n",
    "plt.xlabel(\"False Positive Rate\")\n",
    "plt.ylabel(\"True Positive Rate\")\n",
    "plt.show()"
   ]
  },
  {
   "cell_type": "code",
   "execution_count": null,
   "metadata": {},
   "outputs": [],
   "source": []
  }
 ],
 "metadata": {
  "kernelspec": {
   "display_name": "Python 3.7.4 64-bit",
   "language": "python",
   "name": "python37464bit136b089fb3184ff4acc4f49a328f5daf"
  },
  "language_info": {
   "codemirror_mode": {
    "name": "ipython",
    "version": 3
   },
   "file_extension": ".py",
   "mimetype": "text/x-python",
   "name": "python",
   "nbconvert_exporter": "python",
   "pygments_lexer": "ipython3",
   "version": "3.7.4"
  }
 },
 "nbformat": 4,
 "nbformat_minor": 4
}
